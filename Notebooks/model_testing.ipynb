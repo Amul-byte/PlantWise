{
 "cells": [
  {
   "cell_type": "code",
   "execution_count": 7,
   "id": "220932de",
   "metadata": {},
   "outputs": [
    {
     "name": "stderr",
     "output_type": "stream",
     "text": [
      "WARNING:absl:Compiled the loaded model, but the compiled metrics have yet to be built. `model.compile_metrics` will be empty until you train or evaluate the model.\n"
     ]
    },
    {
     "name": "stdout",
     "output_type": "stream",
     "text": [
      "WARNING:tensorflow:5 out of the last 5 calls to <function TensorFlowTrainer.make_predict_function.<locals>.one_step_on_data_distributed at 0x156f38900> triggered tf.function retracing. Tracing is expensive and the excessive number of tracings could be due to (1) creating @tf.function repeatedly in a loop, (2) passing tensors with different shapes, (3) passing Python objects instead of tensors. For (1), please define your @tf.function outside of the loop. For (2), @tf.function has reduce_retracing=True option that can avoid unnecessary retracing. For (3), please refer to https://www.tensorflow.org/guide/function#controlling_retracing and https://www.tensorflow.org/api_docs/python/tf/function for  more details.\n"
     ]
    },
    {
     "name": "stderr",
     "output_type": "stream",
     "text": [
      "WARNING:tensorflow:5 out of the last 5 calls to <function TensorFlowTrainer.make_predict_function.<locals>.one_step_on_data_distributed at 0x156f38900> triggered tf.function retracing. Tracing is expensive and the excessive number of tracings could be due to (1) creating @tf.function repeatedly in a loop, (2) passing tensors with different shapes, (3) passing Python objects instead of tensors. For (1), please define your @tf.function outside of the loop. For (2), @tf.function has reduce_retracing=True option that can avoid unnecessary retracing. For (3), please refer to https://www.tensorflow.org/guide/function#controlling_retracing and https://www.tensorflow.org/api_docs/python/tf/function for  more details.\n"
     ]
    },
    {
     "name": "stdout",
     "output_type": "stream",
     "text": [
      "\u001b[1m1/1\u001b[0m \u001b[32m━━━━━━━━━━━━━━━━━━━━\u001b[0m\u001b[37m\u001b[0m \u001b[1m1s\u001b[0m 546ms/step\n",
      "Prediction: Tomato___Tomato_Yellow_Leaf_Curl_Virus (100.00% confidence)\n"
     ]
    }
   ],
   "source": [
    "import tensorflow as tf\n",
    "import numpy as np\n",
    "import os\n",
    "\n",
    "# === CONFIGURATION ===\n",
    "MODEL_PATH = \"/Users/amulpoudel/Developer/PlantWise/model/plantwise_model.h5\"\n",
    "IMAGE_PATH = \"/Users/amulpoudel/Developer/PlantWise/test_image/tomato_healthy.jpg\"\n",
    "IMG_SIZE = (224, 224)  # Adjust to match model input\n",
    "CLASS_NAMES = [\n",
    "    'Tomato___Bacterial_spot',\n",
    "    'Tomato___Early_blight',\n",
    "    'Tomato___Late_blight',\n",
    "    'Tomato___Leaf_Mold',\n",
    "    'Tomato___Septoria_leaf_spot',\n",
    "    'Tomato___Spider_mites Two-spotted_spider_mite',\n",
    "    'Tomato___Target_Spot',\n",
    "    'Tomato___Tomato_Yellow_Leaf_Curl_Virus',\n",
    "    'Tomato___Tomato_mosaic_virus',\n",
    "    'Tomato___healthy'\n",
    "]  # Replace with your actual classes in correct order\n",
    "\n",
    "# === LOAD MODEL ===\n",
    "model = tf.keras.models.load_model(MODEL_PATH)\n",
    "\n",
    "# === LOAD AND PREPROCESS IMAGE ===\n",
    "img = tf.keras.utils.load_img(IMAGE_PATH, target_size=IMG_SIZE)\n",
    "img_array = tf.keras.utils.img_to_array(img)\n",
    "img_array = img_array / 255.0  # normalize to [0, 1]\n",
    "img_array = np.expand_dims(img_array, axis=0)  # add batch dimension\n",
    "\n",
    "# === PREDICT ===\n",
    "pred = model.predict(img_array)\n",
    "\n",
    "# === HANDLE PREDICTION ===\n",
    "if pred.shape[-1] == 1:\n",
    "    # Binary classification\n",
    "    predicted_index = int(pred[0][0] > 0.5)\n",
    "else:\n",
    "    # Multi-class classification\n",
    "    predicted_index = np.argmax(pred)\n",
    "\n",
    "# === SAFETY CHECK ===\n",
    "if predicted_index < len(CLASS_NAMES):\n",
    "    predicted_class = CLASS_NAMES[predicted_index]\n",
    "    confidence = pred[0][predicted_index] * 100\n",
    "    print(f\"Prediction: {predicted_class} ({confidence:.2f}% confidence)\")\n",
    "else:\n",
    "    print(f\"Error: predicted index {predicted_index} is out of range for CLASS_NAMES.\")\n"
   ]
  }
 ],
 "metadata": {
  "kernelspec": {
   "display_name": "PlantWise",
   "language": "python",
   "name": "python3"
  },
  "language_info": {
   "codemirror_mode": {
    "name": "ipython",
    "version": 3
   },
   "file_extension": ".py",
   "mimetype": "text/x-python",
   "name": "python",
   "nbconvert_exporter": "python",
   "pygments_lexer": "ipython3",
   "version": "3.12.3"
  }
 },
 "nbformat": 4,
 "nbformat_minor": 5
}
